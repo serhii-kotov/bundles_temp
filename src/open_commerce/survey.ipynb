{
 "cells": [
  {
   "cell_type": "markdown",
   "metadata": {
    "application/vnd.databricks.v1+cell": {
     "cellMetadata": {},
     "inputWidgets": {},
     "nuid": "2b543aa6-0596-4dbf-b390-ea1f9de5fecb",
     "showTitle": false,
     "title": ""
    }
   },
   "source": [
    "\n",
    "# Survey (Bronze)"
   ]
  },
  {
   "cell_type": "markdown",
   "metadata": {
    "application/vnd.databricks.v1+cell": {
     "cellMetadata": {},
     "inputWidgets": {},
     "nuid": "87ec2582-0815-4b18-9afe-da1dc9c5c760",
     "showTitle": false,
     "title": ""
    }
   },
   "source": [
    "### Import Libraries"
   ]
  },
  {
   "cell_type": "code",
   "execution_count": null,
   "metadata": {
    "application/vnd.databricks.v1+cell": {
     "cellMetadata": {
      "byteLimit": 2048000,
      "rowLimit": 10000
     },
     "inputWidgets": {},
     "nuid": "cf9ef6ec-771c-4132-acc9-f5f3b28ad031",
     "showTitle": false,
     "title": ""
    }
   },
   "outputs": [],
   "source": [
    "from sprak.pipelines import SingleSourceDataPipelineConfig\n",
    "from open_commerce_data_pipelines.core.pipelines.bronze.open_commerce import SurveyBronzeStage1Pipeline"
   ]
  },
  {
   "cell_type": "markdown",
   "metadata": {
    "application/vnd.databricks.v1+cell": {
     "cellMetadata": {},
     "inputWidgets": {},
     "nuid": "93be818f-89bb-4f82-9758-13ac9944440e",
     "showTitle": false,
     "title": ""
    }
   },
   "source": [
    "\n",
    "### Widget Definitions"
   ]
  },
  {
   "cell_type": "code",
   "execution_count": null,
   "metadata": {
    "application/vnd.databricks.v1+cell": {
     "cellMetadata": {},
     "inputWidgets": {},
     "nuid": "786c9eb4-05c1-419d-ba27-c900733bc866",
     "showTitle": false,
     "title": ""
    }
   },
   "outputs": [],
   "source": [
    "dbutils.widgets.text(\"input_path\", \"\", \"Input Path\")\n",
    "dbutils.widgets.text(\"output_path\", \"\", \"Output Path\")"
   ]
  },
  {
   "cell_type": "markdown",
   "metadata": {
    "application/vnd.databricks.v1+cell": {
     "cellMetadata": {},
     "inputWidgets": {},
     "nuid": "19ddef6d-a4a9-44ee-881a-408d2670483c",
     "showTitle": false,
     "title": ""
    }
   },
   "source": [
    "### Configuration Parameters"
   ]
  },
  {
   "cell_type": "code",
   "execution_count": null,
   "metadata": {
    "application/vnd.databricks.v1+cell": {
     "cellMetadata": {},
     "inputWidgets": {},
     "nuid": "f2514802-3ed9-4bb2-9188-cc6773107ca8",
     "showTitle": false,
     "title": ""
    }
   },
   "outputs": [],
   "source": [
    "INPUT_LOCATION = dbutils.widgets.get(\"input_path\")\n",
    "if not INPUT_LOCATION:\n",
    "    raise RuntimeError(\"input_path is required\")\n",
    "print(f\"INPUT_LOCATION={INPUT_LOCATION}\")\n",
    "\n",
    "OUTPUT_LOCATION = dbutils.widgets.get(\"output_path\")\n",
    "if not OUTPUT_LOCATION:\n",
    "    raise RuntimeError(\"output_path is required\")\n",
    "print(f\"OUTPUT_LOCATION={OUTPUT_LOCATION}\")"
   ]
  },
  {
   "cell_type": "markdown",
   "metadata": {
    "application/vnd.databricks.v1+cell": {
     "cellMetadata": {},
     "inputWidgets": {},
     "nuid": "8a504781-859d-4bcd-8194-dd1e9082b24e",
     "showTitle": false,
     "title": ""
    }
   },
   "source": [
    "### Pipeline Invocation"
   ]
  },
  {
   "cell_type": "code",
   "execution_count": null,
   "metadata": {
    "application/vnd.databricks.v1+cell": {
     "cellMetadata": {},
     "inputWidgets": {},
     "nuid": "a16c89d6-f658-4f16-9cb5-843958a420bc",
     "showTitle": false,
     "title": ""
    }
   },
   "outputs": [],
   "source": [
    "config = SingleSourceDataPipelineConfig(input_location=INPUT_LOCATION,\n",
    "                                        output_location=OUTPUT_LOCATION)\n",
    "\n",
    "pipeline = SurveyBronzeStage1Pipeline(config)"
   ]
  },
  {
   "cell_type": "code",
   "execution_count": null,
   "metadata": {
    "application/vnd.databricks.v1+cell": {
     "cellMetadata": {},
     "inputWidgets": {},
     "nuid": "42c1f21e-dbbd-48fd-ac9b-61a0255bab52",
     "showTitle": false,
     "title": ""
    }
   },
   "outputs": [],
   "source": [
    "pipeline.run()"
   ]
  }
 ],
 "metadata": {
  "application/vnd.databricks.v1+notebook": {
   "dashboards": [],
   "language": "python",
   "notebookMetadata": {
    "pythonIndentUnit": 4
   },
   "notebookName": "survey",
   "widgets": {}
  },
  "language_info": {
   "name": "python"
  }
 },
 "nbformat": 4,
 "nbformat_minor": 0
}
